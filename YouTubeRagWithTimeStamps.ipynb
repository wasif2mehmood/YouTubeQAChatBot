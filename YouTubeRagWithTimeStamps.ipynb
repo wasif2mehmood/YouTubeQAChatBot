{
  "nbformat": 4,
  "nbformat_minor": 0,
  "metadata": {
    "colab": {
      "provenance": [],
      "include_colab_link": true
    },
    "kernelspec": {
      "name": "python3",
      "display_name": "Python 3"
    },
    "language_info": {
      "name": "python"
    }
  },
  "cells": [
    {
      "cell_type": "markdown",
      "metadata": {
        "id": "view-in-github",
        "colab_type": "text"
      },
      "source": [
        "<a href=\"https://colab.research.google.com/github/wasif2mehmood/YoutubeVideQAChatBot/blob/main/YouTubeRagWithTimeStamps.ipynb\" target=\"_parent\"><img src=\"https://colab.research.google.com/assets/colab-badge.svg\" alt=\"Open In Colab\"/></a>"
      ]
    },
    {
      "cell_type": "markdown",
      "source": [
        "# Installations"
      ],
      "metadata": {
        "id": "wU_q7vPqs2u2"
      }
    },
    {
      "cell_type": "code",
      "execution_count": null,
      "metadata": {
        "id": "uoyKX5zzc2NL",
        "collapsed": true
      },
      "outputs": [],
      "source": [
        "!pip install --upgrade -q  lark langchain-chroma youtube-transcript-api langchain_openai langchain-community langgraph langsmith pytube"
      ]
    },
    {
      "cell_type": "markdown",
      "source": [
        "# Imports"
      ],
      "metadata": {
        "id": "6fDsn6EZs8nO"
      }
    },
    {
      "cell_type": "code",
      "source": [
        "from langchain_community.document_loaders import YoutubeLoader\n",
        "import getpass\n",
        "import os\n",
        "from youtube_transcript_api import YouTubeTranscriptApi\n",
        "import json\n",
        "from langchain_community.document_loaders import TextLoader\n",
        "from langchain.text_splitter import RecursiveCharacterTextSplitter\n",
        "from langchain_chroma import Chroma\n",
        "from langchain_core.vectorstores import InMemoryVectorStore\n",
        "from langchain_core.documents import Document\n",
        "from langchain_openai import OpenAIEmbeddings\n",
        "from langchain.retrievers.multi_query import MultiQueryRetriever\n",
        "from langchain_openai import ChatOpenAI\n",
        "from langchain.prompts import ChatPromptTemplate, HumanMessagePromptTemplate, PromptTemplate\n",
        "from langchain_core.output_parsers import StrOutputParser\n",
        "from langchain_core.runnables import RunnablePassthrough\n",
        "from langgraph.graph import StateGraph, START, END\n",
        "from IPython.display import Image, display\n",
        "from langgraph.checkpoint.memory import MemorySaver\n",
        "from langchain_core.tools import tool\n",
        "from langchain_core.messages import SystemMessage\n",
        "from langgraph.prebuilt import ToolNode\n",
        "from langchain_community.document_loaders.youtube import TranscriptFormat\n",
        "from langgraph.graph import END,START\n",
        "from langgraph.prebuilt import ToolNode, tools_condition\n",
        "from langgraph.graph import MessagesState, StateGraph"
      ],
      "metadata": {
        "id": "n-EJ9GHRc767"
      },
      "execution_count": 2,
      "outputs": []
    },
    {
      "cell_type": "markdown",
      "source": [
        "# OpenAI APIKEY"
      ],
      "metadata": {
        "id": "YV-UkPVStRc4"
      }
    },
    {
      "cell_type": "code",
      "source": [
        "def _set_env(var: str):\n",
        "\n",
        "        os.environ[var] = getpass.getpass(f\"{var}: \")\n",
        "\n",
        "\n",
        "_set_env(\"OPENAI_API_KEY\")"
      ],
      "metadata": {
        "colab": {
          "base_uri": "https://localhost:8080/"
        },
        "id": "iRf58tQWm3Ft",
        "outputId": "d7d4f1d6-d60f-45d8-e978-7433fe1cef57"
      },
      "execution_count": 6,
      "outputs": [
        {
          "name": "stdout",
          "output_type": "stream",
          "text": [
            "OPENAI_API_KEY: ··········\n"
          ]
        }
      ]
    },
    {
      "cell_type": "markdown",
      "source": [
        "# Transcribe and load video"
      ],
      "metadata": {
        "id": "WcdtbhhAvgJ4"
      }
    },
    {
      "cell_type": "code",
      "source": [
        "loader = YoutubeLoader.from_youtube_url(\n",
        "    \"https://youtu.be/j3IhNBzpSjE\",\n",
        "    transcript_format=TranscriptFormat.CHUNKS,\n",
        "    chunk_size_seconds=60,\n",
        ")\n",
        "all_splits=loader.load()\n"
      ],
      "metadata": {
        "id": "87ff9-JedO_o"
      },
      "execution_count": 3,
      "outputs": []
    },
    {
      "cell_type": "markdown",
      "source": [
        "# Create Vector Store and Store Embeddings"
      ],
      "metadata": {
        "id": "60I-kuirvoRo"
      }
    },
    {
      "cell_type": "code",
      "source": [
        "llm = ChatOpenAI(model=\"gpt-4o-mini\")\n",
        "embeddings = OpenAIEmbeddings()\n",
        "vector_store = Chroma.from_documents(documents=all_splits, embedding=embeddings)"
      ],
      "metadata": {
        "id": "61Qsz4PYhts8"
      },
      "execution_count": 7,
      "outputs": []
    },
    {
      "cell_type": "markdown",
      "source": [
        "# Creating LangGraph Tool For Context Retrieval"
      ],
      "metadata": {
        "id": "iAlyxE-8vwNW"
      }
    },
    {
      "cell_type": "code",
      "source": [
        "def format_docs(docs):\n",
        "    formatted_docs = []\n",
        "    for doc in docs:\n",
        "        metadata_str = \", \".join(f\"{key}: {value}\" for key, value in doc.metadata.items())\n",
        "        formatted_docs.append(f\"{doc.page_content}\\nMetadata: {metadata_str}\")\n",
        "    return \"\\n\\n\".join(formatted_docs)\n",
        "\n",
        "@tool(response_format=\"content_and_artifact\")\n",
        "def retrieve(query: str):\n",
        "    \"\"\"Retrieve information related to a query.\"\"\"\n",
        "    retriever_from_llm = MultiQueryRetriever.from_llm(\n",
        "        retriever=vector_store.as_retriever(), llm=llm)\n",
        "    retrieved_docs = retriever_from_llm.invoke(query)\n",
        "    serialized = format_docs(retrieved_docs)\n",
        "    return serialized, retrieved_docs"
      ],
      "metadata": {
        "id": "dnqabZ2jnEnd"
      },
      "execution_count": 8,
      "outputs": []
    },
    {
      "cell_type": "markdown",
      "source": [
        "# Function Calling For Tools and ChatBot"
      ],
      "metadata": {
        "id": "cruvXBtSv3L7"
      }
    },
    {
      "cell_type": "code",
      "source": [
        "# Generate an AIMessage that may include a tool-call to be sent.\n",
        "def query_or_respond(state: MessagesState):\n",
        "    \"\"\"Generate tool call for retrieval or respond.\"\"\"\n",
        "    llm_with_tools = llm.bind_tools([retrieve])\n",
        "    response = llm_with_tools.invoke(state[\"messages\"])\n",
        "    # MessagesState appends messages to state instead of overwriting\n",
        "    return {\"messages\": [response]}\n",
        "\n",
        "\n",
        "# Execute the retrieval.\n",
        "tools = ToolNode([retrieve])\n",
        "\n",
        "\n",
        "# Generate a response using the retrieved content.\n",
        "def generate(state: MessagesState):\n",
        "    \"\"\"Generate answer.\"\"\"\n",
        "    # Get generated ToolMessages\n",
        "    recent_tool_messages = []\n",
        "    for message in reversed(state[\"messages\"]):\n",
        "        if message.type == \"tool\":\n",
        "            recent_tool_messages.append(message)\n",
        "        else:\n",
        "            break\n",
        "    tool_messages = recent_tool_messages[::-1]\n",
        "\n",
        "    # Format into prompt\n",
        "    docs_content = \"\\n\\n\".join(doc.content for doc in tool_messages)\n",
        "    system_message_content = (\n",
        "        \"You are an assistant for question-answering tasks. \"\n",
        "        \"Use the following pieces of retrieved context to answer \"\n",
        "        \"the question. If you don't know the answer, say that you \"\n",
        "        \"don't know. Use three sentences maximum and keep the \"\n",
        "        \"answer concise. Also return accurate timestamps from where\"\n",
        "        \"you are extracting the answer in this format (start_seconds:----)\"\n",
        "        \"\\n\\n\"\n",
        "        f\"{docs_content}\"\n",
        "    )\n",
        "    conversation_messages = [\n",
        "        message\n",
        "        for message in state[\"messages\"]\n",
        "        if message.type in (\"human\", \"system\")\n",
        "        or (message.type == \"ai\" and not message.tool_calls)\n",
        "    ]\n",
        "    prompt = [SystemMessage(system_message_content)] + conversation_messages\n",
        "\n",
        "    # Run\n",
        "    response = llm.invoke(prompt)\n",
        "    return {\"messages\": [response]}"
      ],
      "metadata": {
        "id": "Cmpz44hKnHOh"
      },
      "execution_count": 9,
      "outputs": []
    },
    {
      "cell_type": "markdown",
      "source": [
        "# Building Up Graph"
      ],
      "metadata": {
        "id": "GgaG23h3wHQO"
      }
    },
    {
      "cell_type": "code",
      "source": [
        "graph_builder = StateGraph(MessagesState)\n",
        "graph_builder.add_node(query_or_respond)\n",
        "graph_builder.add_node(tools)\n",
        "graph_builder.add_node(generate)\n",
        "\n",
        "graph_builder.add_edge(START,\"query_or_respond\")\n",
        "graph_builder.add_conditional_edges(\n",
        "    \"query_or_respond\",\n",
        "    tools_condition,\n",
        "    {END: END, \"tools\": \"tools\"},\n",
        ")\n",
        "graph_builder.add_edge(\"tools\", \"generate\")\n",
        "graph_builder.add_edge(\"generate\", END)"
      ],
      "metadata": {
        "colab": {
          "base_uri": "https://localhost:8080/"
        },
        "id": "f59QEY5tnUpY",
        "outputId": "75571369-2810-4346-80cf-69bbad90eca6"
      },
      "execution_count": 10,
      "outputs": [
        {
          "output_type": "execute_result",
          "data": {
            "text/plain": [
              "<langgraph.graph.state.StateGraph at 0x7bf148a85490>"
            ]
          },
          "metadata": {},
          "execution_count": 10
        }
      ]
    },
    {
      "cell_type": "markdown",
      "source": [
        "# Adding Memory to Graph"
      ],
      "metadata": {
        "id": "L6zV5E6xwL62"
      }
    },
    {
      "cell_type": "code",
      "source": [
        "memory = MemorySaver()\n",
        "graph = graph_builder.compile(checkpointer=memory)\n",
        "\n",
        "# Specify an ID for the thread\n",
        "config = {\"configurable\": {\"thread_id\": \"abc123\"}}"
      ],
      "metadata": {
        "id": "YGy-NPrhnXEN"
      },
      "execution_count": 11,
      "outputs": []
    },
    {
      "cell_type": "markdown",
      "source": [
        "# Questioning Method"
      ],
      "metadata": {
        "id": "tl-LC4iywhCQ"
      }
    },
    {
      "cell_type": "code",
      "source": [
        "def process_input_message(input_message):\n",
        "    \"\"\"\n",
        "    Processes the input message using the global graph and config.\n",
        "\n",
        "    Args:\n",
        "        input_message (str): The input message to process.\n",
        "\n",
        "    Returns:\n",
        "        None\n",
        "    \"\"\"\n",
        "    for step in graph.stream(\n",
        "        {\"messages\": [{\"role\": \"user\", \"content\": input_message}]},\n",
        "        stream_mode=\"values\",\n",
        "        config=config,\n",
        "    ):\n",
        "        step[\"messages\"][-1].pretty_print()\n",
        "\n"
      ],
      "metadata": {
        "id": "678EY90Ywfn7"
      },
      "execution_count": 12,
      "outputs": []
    },
    {
      "cell_type": "markdown",
      "source": [
        "#Testing"
      ],
      "metadata": {
        "id": "os9vi99lz8xl"
      }
    },
    {
      "cell_type": "code",
      "source": [
        "input_message = \"What is this presentation about?\"\n",
        "process_input_message(input_message)"
      ],
      "metadata": {
        "colab": {
          "base_uri": "https://localhost:8080/"
        },
        "id": "Vadv2S-Gncn8",
        "outputId": "93f9c567-aaeb-45ed-81c8-0b448fd8b442"
      },
      "execution_count": 13,
      "outputs": [
        {
          "output_type": "stream",
          "name": "stdout",
          "text": [
            "================================\u001b[1m Human Message \u001b[0m=================================\n",
            "\n",
            "What is this presentation about?\n",
            "==================================\u001b[1m Ai Message \u001b[0m==================================\n",
            "Tool Calls:\n",
            "  retrieve (call_LT6BEq4X6E3G85CONdERwvXH)\n",
            " Call ID: call_LT6BEq4X6E3G85CONdERwvXH\n",
            "  Args:\n",
            "    query: presentation topic\n",
            "=================================\u001b[1m Tool Message \u001b[0m=================================\n",
            "Name: retrieve\n",
            "\n",
            "hello and welcome to this presentation on identifying the presence of government issued personally identifiable information embedded in documents this system has been designed to ensure that sensitive personal data such as found in other cards pan cards and driving licenses is effectively detected and managed today we will explore how Advanced Technologies like OCR object detection and structure dat data analysis work together to safeguard personal information and ensure compliance with privacy regulations like gdpr and India's personal data protection bill as Digital Services continue to grow the handling of documents containing personally identifiable information or pii becomes increasingly critical pii such as government issued\n",
            "Metadata: source: https://www.youtube.com/watch?v=j3IhNBzpSjE&t=0s, start_seconds: 0, start_timestamp: 00:00:00\n",
            "\n",
            "identification numbers names and addresses if Expos can lead to identity theft fraud and other privacy violations our project proposes a comprehensive solution for detecting and managing this sensitive data and documents such as AAR cards pan cards and driving licenses using state-of-the-art Technologies the goal is to protect individual's privacy while helping organization comply with stringent privacy regulations one of the key Technologies used in this system is Texa OCR which extracts text from SC scann or image based documents the process begins by pre-processing the image converting it to gray scale and removing noise before passing it through Tes to recognize the text this extracted data is then formatted for analysis this ensures the system accurately detects the piia embedded in the documents even when they contain various fonts or handwriting which could be done uh inadvertedly by\n",
            "Metadata: source: https://www.youtube.com/watch?v=j3IhNBzpSjE&t=60s, start_seconds: 60, start_timestamp: 00:01:00\n",
            "\n",
            "increasing especially as Digital Services become more widespread our system reduces this risk by ensuring that government issued pii is carefully managed and protected by offering an easy to ous tool for identifying redacting and securing sensitive data system not only ensures privacy but also promotes trust in digital services this is particularly impactful for sectors like healthcare government and finance where privacy compliance is Paramount in conclusion identifying the presence of government issued personally identifiable information embedded in documents or data leverages Cutting Edge Technologies to detect redact and securely manage sensitive data by integrating OCR object detection and secture data analysis the system ensures compliance with privacy regulation and advanced uh data security as we continue to digitize personal information it's\n",
            "Metadata: source: https://www.youtube.com/watch?v=j3IhNBzpSjE&t=360s, start_seconds: 360, start_timestamp: 00:06:00\n",
            "\n",
            "we can also test it for the driving license so this user has uh their license Exposed on the internet so we can see that the system is detecting this very well using the YOLO and we are also using Gemini for uh classifying the sensitive data and storing it uh completely uh like privacy in the database as well and finally I would like to also show how it could be in a JPEG document so we can see this imag is very blurry but the system is detecting this as well and uh it is also detecting what kind of pii is uh being used as well so this was our project showcase coming back uh social impact now let's take a moment to discuss the social impact of this project the risk of identity theft fraud and privacy violations is\n",
            "Metadata: source: https://www.youtube.com/watch?v=j3IhNBzpSjE&t=300s, start_seconds: 300, start_timestamp: 00:05:00\n",
            "\n",
            "processed efficiently and securely the user interface developed using react is intuitive and designed to guide users through the document upload and redaction process the system provides realtime previews of detected pii and allows user to interact with the highlighted data the interface is simple and the users can easily apply the redactions and downloads uh now let's take a look at the system in action here I will walk you through how users can upload doc document containing the sensitive information now for example if I choose the pan card file for example as we can see this is the pan card that is actually being exposed on the internet uh we can see the system has detected the date of birth the name and the pan number of the user similarly\n",
            "Metadata: source: https://www.youtube.com/watch?v=j3IhNBzpSjE&t=240s, start_seconds: 240, start_timestamp: 00:04:00\n",
            "\n",
            "crucial that we protect our privacy this system plays a vital role in ensuring that system sensitive data remains safe promoting a more secure and trustworthy digital ecosystem thank you for your attention\n",
            "Metadata: source: https://www.youtube.com/watch?v=j3IhNBzpSjE&t=420s, start_seconds: 420, start_timestamp: 00:07:00\n",
            "\n",
            "the user as well the next step is object detection where we use YOLO you only look once to identify specific reasion in a document containing pii YOLO is highly efficient and accurate enabling realtime detection of feeds such as names date of bir and identification numbers this allows the system to pinpoint exactly where sensitive data is located within the document ensuring redactions or removals are applied precisely where needed once the pii is detected the system uses the Gemini framework to conduct a structured analysis Gemini applies natural language processing NLP techniques to identify and categorize the sensitive information within both the structure and trans structure text as well this approach helps the system accurately identify various types of pii and ensure that all forms of sensitive\n",
            "Metadata: source: https://www.youtube.com/watch?v=j3IhNBzpSjE&t=120s, start_seconds: 120, start_timestamp: 00:02:00\n",
            "==================================\u001b[1m Ai Message \u001b[0m==================================\n",
            "\n",
            "The presentation is about a system designed to identify and manage government-issued personally identifiable information (PII) embedded in documents, using advanced technologies like OCR, object detection, and structured data analysis. It aims to safeguard personal information, ensure compliance with privacy regulations, and protect individuals from risks such as identity theft and fraud. The system includes features for detecting, redacting, and securely managing sensitive data in various document formats. (start_seconds: 0)\n"
          ]
        }
      ]
    },
    {
      "cell_type": "code",
      "source": [
        "input_message = \"What are its advantages?\"\n",
        "\n",
        "process_input_message(input_message)"
      ],
      "metadata": {
        "colab": {
          "base_uri": "https://localhost:8080/"
        },
        "id": "ZBc6lSZYnkLv",
        "outputId": "5d725692-dced-4217-9b22-95b60e405aff"
      },
      "execution_count": 14,
      "outputs": [
        {
          "output_type": "stream",
          "name": "stdout",
          "text": [
            "================================\u001b[1m Human Message \u001b[0m=================================\n",
            "\n",
            "What are its advantages?\n",
            "==================================\u001b[1m Ai Message \u001b[0m==================================\n",
            "Tool Calls:\n",
            "  retrieve (call_FI8FdWACEn33qOx0hftynFNO)\n",
            " Call ID: call_FI8FdWACEn33qOx0hftynFNO\n",
            "  Args:\n",
            "    query: advantages of identifying government issued personally identifiable information in documents\n",
            "=================================\u001b[1m Tool Message \u001b[0m=================================\n",
            "Name: retrieve\n",
            "\n",
            "hello and welcome to this presentation on identifying the presence of government issued personally identifiable information embedded in documents this system has been designed to ensure that sensitive personal data such as found in other cards pan cards and driving licenses is effectively detected and managed today we will explore how Advanced Technologies like OCR object detection and structure dat data analysis work together to safeguard personal information and ensure compliance with privacy regulations like gdpr and India's personal data protection bill as Digital Services continue to grow the handling of documents containing personally identifiable information or pii becomes increasingly critical pii such as government issued\n",
            "Metadata: source: https://www.youtube.com/watch?v=j3IhNBzpSjE&t=0s, start_seconds: 0, start_timestamp: 00:00:00\n",
            "\n",
            "increasing especially as Digital Services become more widespread our system reduces this risk by ensuring that government issued pii is carefully managed and protected by offering an easy to ous tool for identifying redacting and securing sensitive data system not only ensures privacy but also promotes trust in digital services this is particularly impactful for sectors like healthcare government and finance where privacy compliance is Paramount in conclusion identifying the presence of government issued personally identifiable information embedded in documents or data leverages Cutting Edge Technologies to detect redact and securely manage sensitive data by integrating OCR object detection and secture data analysis the system ensures compliance with privacy regulation and advanced uh data security as we continue to digitize personal information it's\n",
            "Metadata: source: https://www.youtube.com/watch?v=j3IhNBzpSjE&t=360s, start_seconds: 360, start_timestamp: 00:06:00\n",
            "\n",
            "identification numbers names and addresses if Expos can lead to identity theft fraud and other privacy violations our project proposes a comprehensive solution for detecting and managing this sensitive data and documents such as AAR cards pan cards and driving licenses using state-of-the-art Technologies the goal is to protect individual's privacy while helping organization comply with stringent privacy regulations one of the key Technologies used in this system is Texa OCR which extracts text from SC scann or image based documents the process begins by pre-processing the image converting it to gray scale and removing noise before passing it through Tes to recognize the text this extracted data is then formatted for analysis this ensures the system accurately detects the piia embedded in the documents even when they contain various fonts or handwriting which could be done uh inadvertedly by\n",
            "Metadata: source: https://www.youtube.com/watch?v=j3IhNBzpSjE&t=60s, start_seconds: 60, start_timestamp: 00:01:00\n",
            "\n",
            "the user as well the next step is object detection where we use YOLO you only look once to identify specific reasion in a document containing pii YOLO is highly efficient and accurate enabling realtime detection of feeds such as names date of bir and identification numbers this allows the system to pinpoint exactly where sensitive data is located within the document ensuring redactions or removals are applied precisely where needed once the pii is detected the system uses the Gemini framework to conduct a structured analysis Gemini applies natural language processing NLP techniques to identify and categorize the sensitive information within both the structure and trans structure text as well this approach helps the system accurately identify various types of pii and ensure that all forms of sensitive\n",
            "Metadata: source: https://www.youtube.com/watch?v=j3IhNBzpSjE&t=120s, start_seconds: 120, start_timestamp: 00:02:00\n",
            "\n",
            "data are flagged and categorized for compliance purposes once the pii is identified the system offers Advanced pii redaction and management features users can mask or permanently remove sensitive information from documents redacted documents are stored securely encrypted and law off for auditing purposes this not only ensures data protection but also maintains transparency in how sensitive data is handled supporting Regulatory Compliance and accountability on the back endend the system is built with nodejs and expressjs integrating all components such as OCR object detection and data analysis seamlessly we have also used python as well the back end handles requests processes documents and securely communicates with external systems via the apis it also manages storage using secure solution like postgress SQ ensuring all data is\n",
            "Metadata: source: https://www.youtube.com/watch?v=j3IhNBzpSjE&t=180s, start_seconds: 180, start_timestamp: 00:03:00\n",
            "==================================\u001b[1m Ai Message \u001b[0m==================================\n",
            "\n",
            "The system offers several advantages, such as effectively detecting and managing government-issued PII to enhance privacy compliance and reduce the risk of identity theft and fraud. It promotes trust in digital services, especially in critical sectors like healthcare, government, and finance, by ensuring sensitive data is securely handled. Additionally, it provides advanced redaction and management features, allowing for masking or permanent removal of sensitive information while maintaining transparency and regulatory compliance. (start_seconds: 360)\n"
          ]
        }
      ]
    },
    {
      "cell_type": "code",
      "source": [
        "input_message = \"What is its tech stack and how its made?\"\n",
        "process_input_message(input_message)"
      ],
      "metadata": {
        "colab": {
          "base_uri": "https://localhost:8080/"
        },
        "id": "Se0C9FrTnyQ2",
        "outputId": "fb346d67-15d1-44bb-d836-0fef185727a5"
      },
      "execution_count": 15,
      "outputs": [
        {
          "output_type": "stream",
          "name": "stdout",
          "text": [
            "================================\u001b[1m Human Message \u001b[0m=================================\n",
            "\n",
            "What is its tech stack and how its made?\n",
            "==================================\u001b[1m Ai Message \u001b[0m==================================\n",
            "Tool Calls:\n",
            "  retrieve (call_QWbHZ3Xwvzwlk5tjS1lR0cjU)\n",
            " Call ID: call_QWbHZ3Xwvzwlk5tjS1lR0cjU\n",
            "  Args:\n",
            "    query: tech stack used for identifying government issued personally identifiable information in documents\n",
            "=================================\u001b[1m Tool Message \u001b[0m=================================\n",
            "Name: retrieve\n",
            "\n",
            "hello and welcome to this presentation on identifying the presence of government issued personally identifiable information embedded in documents this system has been designed to ensure that sensitive personal data such as found in other cards pan cards and driving licenses is effectively detected and managed today we will explore how Advanced Technologies like OCR object detection and structure dat data analysis work together to safeguard personal information and ensure compliance with privacy regulations like gdpr and India's personal data protection bill as Digital Services continue to grow the handling of documents containing personally identifiable information or pii becomes increasingly critical pii such as government issued\n",
            "Metadata: source: https://www.youtube.com/watch?v=j3IhNBzpSjE&t=0s, start_seconds: 0, start_timestamp: 00:00:00\n",
            "\n",
            "increasing especially as Digital Services become more widespread our system reduces this risk by ensuring that government issued pii is carefully managed and protected by offering an easy to ous tool for identifying redacting and securing sensitive data system not only ensures privacy but also promotes trust in digital services this is particularly impactful for sectors like healthcare government and finance where privacy compliance is Paramount in conclusion identifying the presence of government issued personally identifiable information embedded in documents or data leverages Cutting Edge Technologies to detect redact and securely manage sensitive data by integrating OCR object detection and secture data analysis the system ensures compliance with privacy regulation and advanced uh data security as we continue to digitize personal information it's\n",
            "Metadata: source: https://www.youtube.com/watch?v=j3IhNBzpSjE&t=360s, start_seconds: 360, start_timestamp: 00:06:00\n",
            "\n",
            "identification numbers names and addresses if Expos can lead to identity theft fraud and other privacy violations our project proposes a comprehensive solution for detecting and managing this sensitive data and documents such as AAR cards pan cards and driving licenses using state-of-the-art Technologies the goal is to protect individual's privacy while helping organization comply with stringent privacy regulations one of the key Technologies used in this system is Texa OCR which extracts text from SC scann or image based documents the process begins by pre-processing the image converting it to gray scale and removing noise before passing it through Tes to recognize the text this extracted data is then formatted for analysis this ensures the system accurately detects the piia embedded in the documents even when they contain various fonts or handwriting which could be done uh inadvertedly by\n",
            "Metadata: source: https://www.youtube.com/watch?v=j3IhNBzpSjE&t=60s, start_seconds: 60, start_timestamp: 00:01:00\n",
            "\n",
            "data are flagged and categorized for compliance purposes once the pii is identified the system offers Advanced pii redaction and management features users can mask or permanently remove sensitive information from documents redacted documents are stored securely encrypted and law off for auditing purposes this not only ensures data protection but also maintains transparency in how sensitive data is handled supporting Regulatory Compliance and accountability on the back endend the system is built with nodejs and expressjs integrating all components such as OCR object detection and data analysis seamlessly we have also used python as well the back end handles requests processes documents and securely communicates with external systems via the apis it also manages storage using secure solution like postgress SQ ensuring all data is\n",
            "Metadata: source: https://www.youtube.com/watch?v=j3IhNBzpSjE&t=180s, start_seconds: 180, start_timestamp: 00:03:00\n",
            "\n",
            "the user as well the next step is object detection where we use YOLO you only look once to identify specific reasion in a document containing pii YOLO is highly efficient and accurate enabling realtime detection of feeds such as names date of bir and identification numbers this allows the system to pinpoint exactly where sensitive data is located within the document ensuring redactions or removals are applied precisely where needed once the pii is detected the system uses the Gemini framework to conduct a structured analysis Gemini applies natural language processing NLP techniques to identify and categorize the sensitive information within both the structure and trans structure text as well this approach helps the system accurately identify various types of pii and ensure that all forms of sensitive\n",
            "Metadata: source: https://www.youtube.com/watch?v=j3IhNBzpSjE&t=120s, start_seconds: 120, start_timestamp: 00:02:00\n",
            "==================================\u001b[1m Ai Message \u001b[0m==================================\n",
            "\n",
            "The system is built using a tech stack that includes Node.js and Express.js for the backend, which integrates components like OCR, object detection, and data analysis. It utilizes Texa OCR for text extraction, YOLO for real-time object detection, and the Gemini framework for structured analysis through natural language processing. Data is securely managed with solutions like PostgreSQL, ensuring that all processes are efficiently handled and comply with security measures. (start_seconds: 180)\n"
          ]
        }
      ]
    },
    {
      "cell_type": "code",
      "source": [
        "input_message = \"What is the conclusion?\"\n",
        "process_input_message(input_message)"
      ],
      "metadata": {
        "colab": {
          "base_uri": "https://localhost:8080/"
        },
        "id": "33FDw0G3rj8S",
        "outputId": "efd08d23-de0c-46fd-9fc1-762b1a9753a5"
      },
      "execution_count": 18,
      "outputs": [
        {
          "output_type": "stream",
          "name": "stdout",
          "text": [
            "================================\u001b[1m Human Message \u001b[0m=================================\n",
            "\n",
            "What is the conclusion?\n",
            "==================================\u001b[1m Ai Message \u001b[0m==================================\n",
            "Tool Calls:\n",
            "  retrieve (call_nyQSlBr9eM7yre2RzQDynzWK)\n",
            " Call ID: call_nyQSlBr9eM7yre2RzQDynzWK\n",
            "  Args:\n",
            "    query: conclusion of the presentation on identifying government issued personally identifiable information in documents\n",
            "=================================\u001b[1m Tool Message \u001b[0m=================================\n",
            "Name: retrieve\n",
            "\n",
            "hello and welcome to this presentation on identifying the presence of government issued personally identifiable information embedded in documents this system has been designed to ensure that sensitive personal data such as found in other cards pan cards and driving licenses is effectively detected and managed today we will explore how Advanced Technologies like OCR object detection and structure dat data analysis work together to safeguard personal information and ensure compliance with privacy regulations like gdpr and India's personal data protection bill as Digital Services continue to grow the handling of documents containing personally identifiable information or pii becomes increasingly critical pii such as government issued\n",
            "Metadata: source: https://www.youtube.com/watch?v=j3IhNBzpSjE&t=0s, start_seconds: 0, start_timestamp: 00:00:00\n",
            "\n",
            "increasing especially as Digital Services become more widespread our system reduces this risk by ensuring that government issued pii is carefully managed and protected by offering an easy to ous tool for identifying redacting and securing sensitive data system not only ensures privacy but also promotes trust in digital services this is particularly impactful for sectors like healthcare government and finance where privacy compliance is Paramount in conclusion identifying the presence of government issued personally identifiable information embedded in documents or data leverages Cutting Edge Technologies to detect redact and securely manage sensitive data by integrating OCR object detection and secture data analysis the system ensures compliance with privacy regulation and advanced uh data security as we continue to digitize personal information it's\n",
            "Metadata: source: https://www.youtube.com/watch?v=j3IhNBzpSjE&t=360s, start_seconds: 360, start_timestamp: 00:06:00\n",
            "\n",
            "identification numbers names and addresses if Expos can lead to identity theft fraud and other privacy violations our project proposes a comprehensive solution for detecting and managing this sensitive data and documents such as AAR cards pan cards and driving licenses using state-of-the-art Technologies the goal is to protect individual's privacy while helping organization comply with stringent privacy regulations one of the key Technologies used in this system is Texa OCR which extracts text from SC scann or image based documents the process begins by pre-processing the image converting it to gray scale and removing noise before passing it through Tes to recognize the text this extracted data is then formatted for analysis this ensures the system accurately detects the piia embedded in the documents even when they contain various fonts or handwriting which could be done uh inadvertedly by\n",
            "Metadata: source: https://www.youtube.com/watch?v=j3IhNBzpSjE&t=60s, start_seconds: 60, start_timestamp: 00:01:00\n",
            "\n",
            "data are flagged and categorized for compliance purposes once the pii is identified the system offers Advanced pii redaction and management features users can mask or permanently remove sensitive information from documents redacted documents are stored securely encrypted and law off for auditing purposes this not only ensures data protection but also maintains transparency in how sensitive data is handled supporting Regulatory Compliance and accountability on the back endend the system is built with nodejs and expressjs integrating all components such as OCR object detection and data analysis seamlessly we have also used python as well the back end handles requests processes documents and securely communicates with external systems via the apis it also manages storage using secure solution like postgress SQ ensuring all data is\n",
            "Metadata: source: https://www.youtube.com/watch?v=j3IhNBzpSjE&t=180s, start_seconds: 180, start_timestamp: 00:03:00\n",
            "\n",
            "the user as well the next step is object detection where we use YOLO you only look once to identify specific reasion in a document containing pii YOLO is highly efficient and accurate enabling realtime detection of feeds such as names date of bir and identification numbers this allows the system to pinpoint exactly where sensitive data is located within the document ensuring redactions or removals are applied precisely where needed once the pii is detected the system uses the Gemini framework to conduct a structured analysis Gemini applies natural language processing NLP techniques to identify and categorize the sensitive information within both the structure and trans structure text as well this approach helps the system accurately identify various types of pii and ensure that all forms of sensitive\n",
            "Metadata: source: https://www.youtube.com/watch?v=j3IhNBzpSjE&t=120s, start_seconds: 120, start_timestamp: 00:02:00\n",
            "==================================\u001b[1m Ai Message \u001b[0m==================================\n",
            "\n",
            "The conclusion emphasizes that the system effectively identifies and manages government-issued personally identifiable information (PII) in documents through advanced technologies like OCR, object detection, and structured data analysis. This not only ensures compliance with privacy regulations but also enhances data security, fostering trust in digital services. As personal information continues to digitize, this comprehensive solution plays a crucial role in safeguarding individuals' privacy and supporting organizations in their regulatory obligations. (start_seconds: 360)\n"
          ]
        }
      ]
    },
    {
      "cell_type": "markdown",
      "source": [
        "# Graph Visualization"
      ],
      "metadata": {
        "id": "ctklyo340A_l"
      }
    },
    {
      "cell_type": "code",
      "source": [
        "from IPython.display import Image, display\n",
        "\n",
        "display(Image(graph.get_graph().draw_mermaid_png()))\n"
      ],
      "metadata": {
        "id": "uV1tbzjn0XW7",
        "outputId": "b2cc4b31-67f0-42c3-d16b-99e40a4185fa",
        "colab": {
          "base_uri": "https://localhost:8080/",
          "height": 449
        }
      },
      "execution_count": 19,
      "outputs": [
        {
          "output_type": "display_data",
          "data": {
            "image/png": "[encoded data removed]",
            "text/plain": [
              "<IPython.core.display.Image object>"
            ]
          },
          "metadata": {}
        }
      ]
    }
  ]
}